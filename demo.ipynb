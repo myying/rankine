{
 "cells": [
  {
   "cell_type": "code",
   "execution_count": 19,
   "id": "exotic-stock",
   "metadata": {},
   "outputs": [],
   "source": [
    "import numpy as np\n",
    "import matplotlib.pyplot as plt\n",
    "import rankine_vortex as rv\n",
    "\n",
    "ni = 128\n",
    "nj = 128\n",
    "dx = 9000\n",
    "nv = 2\n",
    "nt = 12\n",
    "nens = 20\n",
    "ii, jj = np.mgrid[0:ni, 0:nj]\n",
    "cmap = [plt.cm.jet(x) for x in np.linspace(0, 1,nens)] \n",
    "\n",
    "workdir = \"/storage/windows10/scratch/rankine\"\n",
    "Xt = np.load(workdir+\"/cycle/truth_state.npy\")\n",
    "Xens = np.zeros((3, ni*nj*nv, nens, 2*(nt+1)))\n",
    "Xens[0, :, :, 0::2] = np.load(workdir+\"/cycle/NoDA_s1_ens.npy\")[:, :, 0, :]\n",
    "Xens[0, :, :, 1::2] = np.load(workdir+\"/cycle/NoDA_s1_ens.npy\")[:, :, 1, :]\n",
    "Xens[1, :, :, 0::2] = np.load(workdir+\"/cycle/obs.intv.3/EnSRF_s1_ens.npy\")[:, :, 0, :]\n",
    "Xens[1, :, :, 1::2] = np.load(workdir+\"/cycle/obs.intv.3/EnSRF_s1_ens.npy\")[:, :, 1, :]\n",
    "Xens[2, :, :, 0::2] = np.load(workdir+\"/cycle/obs.intv.3/EnSRF_s4_ens.npy\")[:, :, 0, :]\n",
    "Xens[2, :, :, 1::2] = np.load(workdir+\"/cycle/obs.intv.3/EnSRF_s4_ens.npy\")[:, :, 1, :]"
   ]
  },
  {
   "cell_type": "code",
   "execution_count": null,
   "id": "optional-christianity",
   "metadata": {},
   "outputs": [
    {
     "name": "stderr",
     "output_type": "stream",
     "text": [
      "<ipython-input-32-9b4059ab647f>:9: UserWarning: No contour levels were found within the data range.\n",
      "  ax.contour(ii, jj, u, wind_contour, colors=[cmap[m][0:3]], linewidths=1)\n"
     ]
    }
   ],
   "source": [
    "wind_contour = (-20, 20)\n",
    "plt.figure(figsize=(15, 15))\n",
    "tt = (3, 4, 7, 10)\n",
    "for t in range(4):\n",
    "    for c in range(3):\n",
    "        ax = plt.subplot(4,4,t+c*4+1)\n",
    "        for m in range(nens):\n",
    "            u, v = rv.X2uv(ni, nj, Xens[c, :, m, tt[t]*2])\n",
    "            ax.contour(ii, jj, u, wind_contour, colors=[cmap[m][0:3]], linewidths=1)\n",
    "        u, v = rv.X2uv(ni, nj, Xt[:, tt[t]])\n",
    "        ax.contour(ii, jj, u, wind_contour, colors='black', linewidths=3)\n",
    "        ax.set_xlim([10, 80])\n",
    "        ax.set_ylim([30, 100])\n",
    "plt.savefig('1.pdf')"
   ]
  },
  {
   "cell_type": "code",
   "execution_count": null,
   "id": "offshore-breakfast",
   "metadata": {},
   "outputs": [],
   "source": []
  }
 ],
 "metadata": {
  "kernelspec": {
   "display_name": "Python 3",
   "language": "python",
   "name": "python3"
  },
  "language_info": {
   "codemirror_mode": {
    "name": "ipython",
    "version": 3
   },
   "file_extension": ".py",
   "mimetype": "text/x-python",
   "name": "python",
   "nbconvert_exporter": "python",
   "pygments_lexer": "ipython3",
   "version": "3.9.3"
  }
 },
 "nbformat": 4,
 "nbformat_minor": 5
}
